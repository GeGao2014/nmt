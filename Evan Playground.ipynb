{
 "cells": [
  {
   "cell_type": "code",
   "execution_count": 40,
   "metadata": {},
   "outputs": [],
   "source": [
    "import torch\n",
    "import torch.nn as nn\n",
    "import torch.optim as optim\n",
    "import torch.nn.functional as F\n",
    "import numpy as np\n",
    "\n",
    "# from torchtext.datasets import TranslationDataset, Multi30k\n",
    "# from torchtext.data import Field, BucketIterator\n",
    "# import spacy\n",
    "\n",
    "import pickle\n",
    "import random\n",
    "import math\n",
    "import os\n",
    "import time\n",
    "import nltk"
   ]
  },
  {
   "cell_type": "markdown",
   "metadata": {},
   "source": [
    "### Import the pre-processed data"
   ]
  },
  {
   "cell_type": "code",
   "execution_count": 41,
   "metadata": {},
   "outputs": [],
   "source": [
    "path = 'data/'\n",
    "\n",
    "with open(path + 'english_no_pad_sorted_50k.pickle', 'rb') as handle:\n",
    "    english = pickle.load(handle)\n",
    "    \n",
    "with open(path + 'german_no_pad_sorted_50k.pickle', 'rb') as handle:\n",
    "    german = pickle.load(handle)"
   ]
  },
  {
   "cell_type": "markdown",
   "metadata": {},
   "source": [
    "### Token-Based Batching Method\n",
    "\n",
    "Feed in the data from the preprocessed set, it should be sorted from shortest sentence to longest sentence without any padding on the sentences. The *get_batches* function will be used to create all of the batches for training, the output is a number of batches of varying dimensions, which is based on the batch size. Below is an example.\n",
    "\n",
    "#### Example, batch-size=14\n",
    "- Given the first few sentences from the dataset (sorted):\n",
    "    - [2, 84, 3]      (length 3)\n",
    "    - [2, 102, 3]     (length 3)\n",
    "    - [2, 63, 3]      (length 3)\n",
    "    - [2, 84, 21, 3]  (length 4)\n",
    "    - [2, 91, 123, 3] (length 4)\n",
    "    \n",
    "- We will fill up the batches based on the number of tokens in each sentence. So for example, the first batch (batch_size=14) will look like:\n",
    "```\n",
    "    [[2, 84, 3],\n",
    "     [2, 102, 3],     \n",
    "     [2, 63, 3],      \n",
    "     [2, 84, 21, 3]]\n",
    "```\n",
    "- We will then zero-pad all of the sentences in batch that are less than maximum length of the longest sentence in the batch to be the same length as the longest sentence:\n",
    "\n",
    "```\n",
    "    [[2, 84, 3, 0],\n",
    "     [2, 102, 3, 0],     \n",
    "     [2, 63, 3, 0],      \n",
    "     [2, 84, 21, 3]]\n",
    "```\n",
    "\n",
    "- Now we have a batch of dimension: $N x D$, where:\n",
    "    - $N$ is the number of sentences in the batch, and \n",
    "    - $D$ is the dimensionality (number of words) within a sentence.\n",
    "    - It is important to note that the $N$ and $D$ values will vary from batch to batch, but **MUST** be consistent within each batch"
   ]
  },
  {
   "cell_type": "code",
   "execution_count": 13,
   "metadata": {},
   "outputs": [],
   "source": [
    "\"\"\"\n",
    "# THE FOLLOWING FUNCTION IS DEPRECATED\n",
    "\n",
    "def get_batches(german, english, b_sz):\n",
    "    batches = [[]]\n",
    "    \n",
    "    # For every sentence in the dataset, add it to a batch, based on the batch size\n",
    "    # if the sentence + current length is not greater than the batch size, \n",
    "    # then add it to the batch otherwise fill the current batch\n",
    "    for sent in german:\n",
    "        cur_len = 0\n",
    "        for b in batches[-1]:\n",
    "            cur_len += len(b)\n",
    "    \n",
    "        if (cur_len + len(sent)) <= b_sz: \n",
    "            batches[-1].append(sent)\n",
    "        else:\n",
    "            batches.append([])        \n",
    "            batches[-1].append(sent)\n",
    "    \n",
    "    # For every batch within the entire set of batches, add padding to the sentences\n",
    "    # that are less than the length of the longest sentence within the each batch.\n",
    "    for b in batches:\n",
    "        max_len = len(max(b, key=len))\n",
    "        \n",
    "        for sent in b:\n",
    "            dif = max_len - len(sent)\n",
    "            if dif > 0:\n",
    "                pad_list = 0 * dif\n",
    "                sent.append(pad_list)\n",
    "        \n",
    "    return batches\n",
    "\n",
    "\n",
    "\n",
    "batches = get_batches(german['train'], b_sz=20)\n",
    "\"\"\""
   ]
  },
  {
   "cell_type": "code",
   "execution_count": 66,
   "metadata": {},
   "outputs": [
    {
     "name": "stdout",
     "output_type": "stream",
     "text": [
      "load the source and target sentences of the 3rd sentence within the 102nd batch:\n",
      "Source: [2, 865, 335, 3]\n",
      "Target: [2, 733, 21, 11, 3]\n"
     ]
    }
   ],
   "source": [
    "def get_batches(german, english, b_sz):\n",
    "    de_batches = [[]]\n",
    "    \n",
    "    # For every sentence in the dataset, add it to a batch, based on the batch size\n",
    "    # if the sentence + current length is not greater than the batch size, \n",
    "    # then add it to the batch otherwise fill the current batch\n",
    "    for sent in german:\n",
    "        cur_len = 0\n",
    "        for b in de_batches[-1]:\n",
    "            cur_len += len(b)\n",
    "    \n",
    "        if (cur_len + len(sent)) <= b_sz: \n",
    "            de_batches[-1].append(sent)\n",
    "        else:\n",
    "            de_batches.append([])        \n",
    "            de_batches[-1].append(sent)\n",
    "    \n",
    "    # For every batch within the entire set of batches, add padding to the sentences\n",
    "    # that are less than the length of the longest sentence within the each batch.\n",
    "    for b in de_batches:\n",
    "        max_len = len(max(b, key=len))\n",
    "        \n",
    "        for sent in b:\n",
    "            dif = max_len - len(sent)\n",
    "            if dif > 0:\n",
    "                pad_list = 0 * dif\n",
    "                sent.append(pad_list)\n",
    "    \n",
    "    en_batches = []\n",
    "    k=0\n",
    "    for i in range(len(de_batches)):\n",
    "        tmp_batch = [0]*len(de_batches[i])\n",
    "        for j in range(len(de_batches[i])):\n",
    "            tmp_batch[j] = english[k]\n",
    "            k+=1\n",
    "            \n",
    "        en_batches.append(tmp_batch)\n",
    "        \n",
    "    batches = []\n",
    "    for i in range(len(de_batches)):\n",
    "        dict_batch = []\n",
    "        for j in range(len(de_batches[i])):\n",
    "            tmp_dict = {\"source\": de_batches[i][j],\n",
    "                       \"target\": en_batches[i][j]}\n",
    "            dict_batch.append(tmp_dict)\n",
    "        batches.append(dict_batch)\n",
    "        \n",
    "    return batches\n",
    "\n",
    "test_batches = get_batches(german['train'], english['train'], b_sz=20)\n",
    "\n",
    "print(\"load the source and target sentences of the 3rd sentence within the 102nd batch:\")\n",
    "print(\"Source:\", test_batches[102][3]['source'])\n",
    "print(\"Target:\", test_batches[102][3]['target'])"
   ]
  },
  {
   "cell_type": "code",
   "execution_count": 54,
   "metadata": {},
   "outputs": [
    {
     "name": "stdout",
     "output_type": "stream",
     "text": [
      "29891\n",
      "29891\n",
      "<sos> ich wünschte , ich könnte ihnen mein jemen zeigen . <eos> \n",
      "<sos> i wish i could show you my yemen . <eos> \n"
     ]
    }
   ],
   "source": [
    "print(len(en_batches))\n",
    "print(len(batches))\n",
    "\n",
    "def print_sentence(sent, language):\n",
    "    if language == \"german\":\n",
    "        for w in sent:\n",
    "            print(german['idx2word'][w], end=' ')\n",
    "    elif language == \"english\":\n",
    "        for w in sent:\n",
    "            print(english['idx2word'][w], end=' ')\n",
    "    else:\n",
    "        print(\"Language should be either 'german' or 'english'\")\n",
    "        \n",
    "    print(\"\")\n",
    "\n",
    "\n",
    "print_sentence(batches[29890][0], language=\"german\")\n",
    "print_sentence(en_batches[29890][0], language=\"english\")\n",
    "\n",
    "#     print(len(batches[i]), \",\", len(en_batches[i]))\n"
   ]
  },
  {
   "cell_type": "code",
   "execution_count": 33,
   "metadata": {},
   "outputs": [
    {
     "data": {
      "text/plain": [
       "dict_keys(['idx2word', 'train', 'dev'])"
      ]
     },
     "execution_count": 33,
     "metadata": {},
     "output_type": "execute_result"
    }
   ],
   "source": [
    "english.keys()"
   ]
  },
  {
   "cell_type": "code",
   "execution_count": null,
   "metadata": {},
   "outputs": [],
   "source": [
    "class Encoder(nn.Module):\n",
    "    def __init__(self, params):\n",
    "        super(Encoder, self).__init__()\n",
    "        \n",
    "    def forward(self, batch):\n",
    "        pass\n",
    "        "
   ]
  },
  {
   "cell_type": "code",
   "execution_count": null,
   "metadata": {},
   "outputs": [],
   "source": [
    "def train(english, german, params, net):\n",
    "    batches = get_batches()\n",
    "    pass"
   ]
  }
 ],
 "metadata": {
  "kernelspec": {
   "display_name": "Python 3",
   "language": "python",
   "name": "python3"
  },
  "language_info": {
   "codemirror_mode": {
    "name": "ipython",
    "version": 3
   },
   "file_extension": ".py",
   "mimetype": "text/x-python",
   "name": "python",
   "nbconvert_exporter": "python",
   "pygments_lexer": "ipython3",
   "version": "3.7.1"
  }
 },
 "nbformat": 4,
 "nbformat_minor": 2
}
