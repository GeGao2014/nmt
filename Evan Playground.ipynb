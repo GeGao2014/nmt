{
 "cells": [
  {
   "cell_type": "code",
   "execution_count": 4,
   "metadata": {},
   "outputs": [],
   "source": [
    "import torch\n",
    "import torch.nn as nn\n",
    "import torch.optim as optim\n",
    "import torch.nn.functional as F\n",
    "import numpy as np\n",
    "\n",
    "# from torchtext.datasets import TranslationDataset, Multi30k\n",
    "# from torchtext.data import Field, BucketIterator\n",
    "\n",
    "# import spacy\n",
    "\n",
    "import pickle\n",
    "import random\n",
    "import math\n",
    "import os\n",
    "import time\n",
    "import nltk"
   ]
  },
  {
   "cell_type": "code",
   "execution_count": 5,
   "metadata": {},
   "outputs": [],
   "source": [
    "dir = 'C:/Users/evan_/OneDrive/Documents/School/Graduate/Year 1/Spring/CS 690D/Project/data/processed/'\n",
    "\n",
    "with open(dir + 'english_no_pad_sorted_50k.pickle', 'rb') as handle:\n",
    "    english = pickle.load(handle)\n",
    "    \n",
    "with open(dir + 'german_no_pad_sorted_50k.pickle', 'rb') as handle:\n",
    "    german = pickle.load(handle)"
   ]
  },
  {
   "cell_type": "code",
   "execution_count": 17,
   "metadata": {},
   "outputs": [
    {
     "name": "stdout",
     "output_type": "stream",
     "text": [
      "13\n"
     ]
    }
   ],
   "source": [
    "max_length_en = len(english['train'][-1])\n",
    "max_length_de = len(german['train'][-1])\n",
    "\n",
    "batch_size = max((max_length_en, max_length_de))"
   ]
  },
  {
   "cell_type": "code",
   "execution_count": 69,
   "metadata": {},
   "outputs": [],
   "source": [
    "def get_batches(data, b_sz):\n",
    "    batches = [[]]\n",
    "    \n",
    "    for sent in data:\n",
    "        cur_len = 0\n",
    "        for b in batches[-1]:\n",
    "            cur_len += len(b)\n",
    "            \n",
    "        # if the sentence + current length is not greater than the batch size, then add it to the batch\n",
    "        # otherwise fill the current batch\n",
    "        if (cur_len + len(sent)) <= b_sz: \n",
    "            batches[-1].append(sent)\n",
    "        else:\n",
    "            dif = b_sz - cur_len\n",
    "            if dif > 0:\n",
    "                pad_list = [0] * dif\n",
    "                batches[-1].append(pad_list)\n",
    "            batches.append([])        \n",
    "            batches[-1].append(sent)\n",
    "    \n",
    "    # Don't forget about the last batch! make sure it is of the proper length too\n",
    "    cur_len = 0\n",
    "    for b in batches[-1]:\n",
    "        cur_len += len(b)\n",
    "    if cur_len < b_sz:\n",
    "        dif = b_sz - cur_len\n",
    "        pad_list = [0] * dif\n",
    "        batches[-1].append(pad_list)\n",
    "        \n",
    "    return batches\n",
    "\n",
    "batches = get_batches(english['train'], batch_size)"
   ]
  },
  {
   "cell_type": "code",
   "execution_count": null,
   "metadata": {},
   "outputs": [],
   "source": []
  }
 ],
 "metadata": {
  "kernelspec": {
   "display_name": "Python 3",
   "language": "python",
   "name": "python3"
  },
  "language_info": {
   "codemirror_mode": {
    "name": "ipython",
    "version": 3
   },
   "file_extension": ".py",
   "mimetype": "text/x-python",
   "name": "python",
   "nbconvert_exporter": "python",
   "pygments_lexer": "ipython3",
   "version": "3.6.5"
  }
 },
 "nbformat": 4,
 "nbformat_minor": 2
}
