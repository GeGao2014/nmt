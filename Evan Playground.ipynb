{
 "cells": [
  {
   "cell_type": "code",
   "execution_count": 1,
   "metadata": {},
   "outputs": [],
   "source": [
    "import torch\n",
    "import torch.nn as nn\n",
    "import torch.optim as optim\n",
    "import torch.nn.functional as F\n",
    "import numpy as np\n",
    "\n",
    "# from torchtext.datasets import TranslationDataset, Multi30k\n",
    "# from torchtext.data import Field, BucketIterator\n",
    "\n",
    "# import spacy\n",
    "\n",
    "import pickle\n",
    "import random\n",
    "import math\n",
    "import os\n",
    "import time\n",
    "import nltk"
   ]
  },
  {
   "cell_type": "code",
   "execution_count": 27,
   "metadata": {},
   "outputs": [],
   "source": [
    "# dir = 'C:/Users/evan_/OneDrive/Documents/School/Graduate/Year 1/Spring/CS 690D/Project/data/processed/'\n",
    "dir = 'C:/Users/evan_/Documents/School/Graduate/Year 1/Spring/CS 690D/Project/Base Model/data/processed/'\n",
    "\n",
    "\n",
    "with open(dir + 'english_no_pad_sorted_50k.pickle', 'rb') as handle:\n",
    "    english = pickle.load(handle)\n",
    "    \n",
    "with open(dir + 'german_no_pad_sorted_50k.pickle', 'rb') as handle:\n",
    "    german = pickle.load(handle)"
   ]
  },
  {
   "cell_type": "code",
   "execution_count": 28,
   "metadata": {},
   "outputs": [],
   "source": [
    "max_length_en = len(english['train'][-1])\n",
    "max_length_de = len(german['train'][-1])\n",
    "\n",
    "batch_size = max((max_length_en, max_length_de))"
   ]
  },
  {
   "cell_type": "markdown",
   "metadata": {},
   "source": [
    "# Method 1 for batching, I don't think it is correct"
   ]
  },
  {
   "cell_type": "code",
   "execution_count": 69,
   "metadata": {},
   "outputs": [],
   "source": [
    "def get_batches(data, b_sz):\n",
    "    batches = [[]]\n",
    "    \n",
    "    for sent in data:\n",
    "        cur_len = 0\n",
    "        for b in batches[-1]:\n",
    "            cur_len += len(b)\n",
    "            \n",
    "        # if the sentence + current length is not greater than the batch size, then add it to the batch\n",
    "        # otherwise fill the current batch\n",
    "        if (cur_len + len(sent)) <= b_sz: \n",
    "            batches[-1].append(sent)\n",
    "        else:\n",
    "            dif = b_sz - cur_len\n",
    "            if dif > 0:\n",
    "                pad_list = [0] * dif\n",
    "                batches[-1].append(pad_list)\n",
    "            batches.append([])        \n",
    "            batches[-1].append(sent)\n",
    "    \n",
    "    # Don't forget about the last batch! make sure it is of the proper length too\n",
    "    cur_len = 0\n",
    "    for b in batches[-1]:\n",
    "        cur_len += len(b)\n",
    "    if cur_len < b_sz:\n",
    "        dif = b_sz - cur_len\n",
    "        pad_list = [0] * dif\n",
    "        batches[-1].append(pad_list)\n",
    "        \n",
    "    return batches\n",
    "\n",
    "batches = get_batches(english['train'], batch_size)"
   ]
  },
  {
   "cell_type": "markdown",
   "metadata": {},
   "source": [
    "# Method 2 for batching, I think this method is correct"
   ]
  },
  {
   "cell_type": "code",
   "execution_count": 31,
   "metadata": {},
   "outputs": [],
   "source": [
    "def get_batches(data, b_sz):\n",
    "    batches = [[]]\n",
    "    \n",
    "    for sent in data:\n",
    "        cur_len = 0\n",
    "        for b in batches[-1]:\n",
    "            cur_len += len(b)\n",
    "            \n",
    "        # if the sentence + current length is not greater than the batch size, then add it to the batch\n",
    "        # otherwise fill the current batch\n",
    "        if (cur_len + len(sent)) <= b_sz: \n",
    "            batches[-1].append(sent)\n",
    "        else:\n",
    "            batches.append([])        \n",
    "            batches[-1].append(sent)\n",
    "    \n",
    "    \n",
    "    for b in batches:\n",
    "        max_len = len(max(b, key=len))\n",
    "        \n",
    "        for sent in b:\n",
    "            dif = max_len - len(sent)\n",
    "            if dif > 0:\n",
    "                pad_list = 0 * dif\n",
    "                sent.append(pad_list)\n",
    "        \n",
    "        \n",
    "    return batches\n",
    "\n",
    "batches = get_batches(english['train'], 100)"
   ]
  },
  {
   "cell_type": "code",
   "execution_count": 32,
   "metadata": {},
   "outputs": [
    {
     "name": "stdout",
     "output_type": "stream",
     "text": [
      "[[2, 11, 3, 0], [2, 15, 3, 0], [2, 11, 3, 0], [2, 11, 3, 0], [2, 11, 3, 0], [2, 533, 11, 3], [2, 2344, 11, 3], [2, 2860, 11, 3], [2, 2937, 308, 3], [2, 2344, 11, 3], [2, 101, 191, 3], [2, 4864, 11, 3], [2, 4912, 308, 3], [2, 3144, 11, 3], [2, 7348, 11, 3], [2, 8069, 11, 3], [2, 3144, 11, 3], [2, 2860, 11, 3], [2, 2860, 11, 3], [2, 2770, 11, 3], [2, 2860, 11, 3], [2, 2344, 11, 3], [2, 170, 191, 3], [2, 286, 308, 3], [2, 10074, 11, 3], [2, 10075, 11, 3]]\n",
      "[[2, 10074, 11, 3], [2, 10075, 11, 3], [2, 289, 11, 3], [2, 924, 11, 3], [2, 2770, 11, 3], [2, 544, 11, 3], [2, 1247, 11, 3], [2, 2897, 191, 3], [2, 1201, 11, 3], [2, 2438, 11, 3], [2, 2344, 11, 3], [2, 1201, 11, 3], [2, 13543, 11, 3], [2, 491, 11, 3], [2, 289, 191, 3], [2, 15351, 308, 3], [2, 101, 191, 3], [2, 2255, 11, 3], [2, 3237, 11, 3], [2, 2344, 11, 3], [2, 2344, 11, 3], [2, 8664, 11, 3], [2, 155, 2587, 3], [2, 12506, 11, 3], [2, 2344, 11, 3]]\n",
      "[[2, 14834, 11, 3], [2, 3144, 11, 3], [2, 694, 11, 3], [2, 3144, 11, 3], [2, 18571, 11, 3], [2, 155, 2587, 3], [2, 1187, 11, 3], [2, 2344, 11, 3], [2, 694, 191, 3], [2, 19365, 308, 3], [2, 19365, 308, 3], [2, 3237, 11, 3], [2, 19365, 308, 3], [2, 15496, 308, 3], [2, 15496, 308, 3], [2, 3144, 11, 3], [2, 2344, 11, 3], [2, 2344, 11, 3], [2, 2344, 11, 3], [2, 3283, 11, 3], [2, 4602, 11, 3], [2, 14834, 11, 3], [2, 3144, 11, 3], [2, 289, 191, 3], [2, 3144, 11, 3]]\n",
      "[[2, 3144, 11, 3], [2, 3144, 11, 3], [2, 694, 11, 3], [2, 672, 191, 3], [2, 3144, 11, 3], [2, 3476, 11, 3], [2, 11294, 11, 3], [2, 3144, 11, 3], [2, 2344, 11, 3], [2, 123, 11, 3], [2, 1201, 11, 3], [2, 672, 191, 3], [2, 18571, 308, 3], [2, 694, 11, 3], [2, 2344, 11, 3], [2, 505, 11, 3], [2, 3237, 308, 3], [2, 694, 191, 3], [2, 2770, 11, 3], [2, 2770, 11, 3], [2, 289, 191, 3], [2, 3237, 191, 3], [2, 2860, 11, 3], [2, 505, 11, 3], [2, 2887, 11, 3]]\n",
      "[[2, 2770, 11, 3], [2, 3237, 11, 3], [2, 99, 191, 3], [2, 99, 191, 3], [2, 25722, 11, 3], [2, 25723, 308, 3], [2, 6733, 11, 3], [2, 19745, 191, 3], [2, 2770, 11, 3], [2, 2344, 11, 3], [2, 1386, 11, 3], [2, 289, 191, 3], [2, 909, 11, 3], [2, 3237, 11, 3], [2, 24264, 11, 3], [2, 3237, 191, 3], [2, 694, 191, 3], [2, 2344, 11, 3], [2, 5627, 11, 3], [2, 25951, 11, 3], [2, 25369, 11, 3], [2, 25369, 11, 3], [2, 26132, 11, 3], [2, 3237, 191, 3], [2, 26367, 11, 3]]\n"
     ]
    }
   ],
   "source": [
    "for i in range(5):\n",
    "    print(batches[i])"
   ]
  },
  {
   "cell_type": "code",
   "execution_count": null,
   "metadata": {},
   "outputs": [],
   "source": []
  }
 ],
 "metadata": {
  "kernelspec": {
   "display_name": "Python 3",
   "language": "python",
   "name": "python3"
  },
  "language_info": {
   "codemirror_mode": {
    "name": "ipython",
    "version": 3
   },
   "file_extension": ".py",
   "mimetype": "text/x-python",
   "name": "python",
   "nbconvert_exporter": "python",
   "pygments_lexer": "ipython3",
   "version": "3.7.1"
  }
 },
 "nbformat": 4,
 "nbformat_minor": 2
}
