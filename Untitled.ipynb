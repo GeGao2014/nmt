{
 "cells": [
  {
   "cell_type": "code",
   "execution_count": 2,
   "metadata": {},
   "outputs": [
    {
     "name": "stdout",
     "output_type": "stream",
     "text": [
      "Device: cuda:0\n"
     ]
    }
   ],
   "source": [
    "import torch\n",
    "import torch.nn as nn\n",
    "import torch.optim as optim\n",
    "import torch.nn.functional as F\n",
    "import numpy as np\n",
    "import pickle\n",
    "\n",
    "device = torch.device(\"cuda:0\" if torch.cuda.is_available() else \"cpu\")\n",
    "print(\"Device:\", device)"
   ]
  },
  {
   "cell_type": "code",
   "execution_count": 3,
   "metadata": {},
   "outputs": [],
   "source": [
    "path = 'data/'\n",
    "\n",
    "with open(path + 'english_no_pad_sorted_10k.pickle', 'rb') as handle:\n",
    "    english = pickle.load(handle)\n",
    "    \n",
    "with open(path + 'german_no_pad_sorted_10k.pickle', 'rb') as handle:\n",
    "    german = pickle.load(handle)   "
   ]
  },
  {
   "cell_type": "code",
   "execution_count": 4,
   "metadata": {},
   "outputs": [
    {
     "name": "stdout",
     "output_type": "stream",
     "text": [
      "To get an average batch size of 128 Use a batch_size value of: 2650\n"
     ]
    }
   ],
   "source": [
    "def average_sentence_size(german, desired_batch_size=128):\n",
    "    summation = 0\n",
    "    for i in german['train']:\n",
    "        summation += len(i)\n",
    "    avg_tok_sent = summation/len(german['train'])\n",
    "    \n",
    "    print(\"To get an average batch size of\", desired_batch_size, \"Use a batch_size value of:\", int(desired_batch_size*avg_tok_sent))\n",
    "    \n",
    "average_sentence_size(german, desired_batch_size=128)"
   ]
  },
  {
   "cell_type": "code",
   "execution_count": 11,
   "metadata": {},
   "outputs": [],
   "source": [
    "def print_sentence(sent, language):\n",
    "    if language == \"german\":\n",
    "        for w in sent:\n",
    "            print(german['idx2word'][w], end=' ')\n",
    "    elif language == \"english\":\n",
    "        for w in sent:\n",
    "            print(english['idx2word'][w], end=' ')\n",
    "    else:\n",
    "        print(\"Language should be either 'german' or 'english'\")\n",
    "        \n",
    "    print(\"\")"
   ]
  },
  {
   "cell_type": "code",
   "execution_count": 14,
   "metadata": {},
   "outputs": [
    {
     "name": "stdout",
     "output_type": "stream",
     "text": [
      "<sos> jetzt denke ich ein bisschen wie der ikea-effekt . indem man menschen härter arbeiten lässt , brachte man sie dazu , in einem höheren maße das zu lieben was sie taten . <eos> \n",
      "<sos> now i think a little bit like the ikea effect , by getting people to work harder , they actually got them to love what they 're doing to a higher degree . <eos> \n"
     ]
    }
   ],
   "source": [
    "def get_batches(german, english, b_sz):\n",
    "    \n",
    "#     print_sentence(german[8745], 'german')\n",
    "#     print_sentence(english[8745], 'english')\n",
    "    batches = [[]]\n",
    "    \n",
    "    for i in range(len(german[0:10])):\n",
    "        sent2sent = {\"source\": german[i],\n",
    "                     \"target\": english[i]}\n",
    "        \n",
    "        if len_cur_batch < b_sz\n",
    "            batches.append()\n",
    "        \n",
    "        \n",
    "        \n",
    "        \n",
    "        \n",
    "    \n",
    "\n",
    "\n",
    "    \n",
    "get_batches(german['train'], english['train'], 15)"
   ]
  },
  {
   "cell_type": "code",
   "execution_count": null,
   "metadata": {},
   "outputs": [],
   "source": []
  }
 ],
 "metadata": {
  "kernelspec": {
   "display_name": "Python 3",
   "language": "python",
   "name": "python3"
  },
  "language_info": {
   "codemirror_mode": {
    "name": "ipython",
    "version": 3
   },
   "file_extension": ".py",
   "mimetype": "text/x-python",
   "name": "python",
   "nbconvert_exporter": "python",
   "pygments_lexer": "ipython3",
   "version": "3.7.1"
  }
 },
 "nbformat": 4,
 "nbformat_minor": 2
}
